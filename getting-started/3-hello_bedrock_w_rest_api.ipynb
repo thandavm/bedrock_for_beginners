{
 "cells": [
  {
   "cell_type": "markdown",
   "id": "ebfe29be-1a0d-49f3-aee1-0c4ce7846d5a",
   "metadata": {},
   "source": [
    "# Bedrock REST API\n",
    "\n",
    "This ntoebook demonstrates the use of `cURL` commands to invoke the Bedrock REST API. `cURL` version 7.75.0 onwards support the [`--aws-sigv4`](https://curl.se/docs/manpage.html#--aws-sigv4) option so it abstracts out the functionality of signing the HTTP request.\n",
    "\n",
    "Reference: \n",
    "- https://docs.aws.amazon.com/IAM/latest/UserGuide/create-signed-request.html\n",
    "- https://curl.se/docs/manpage.html#--aws-sigv4"
   ]
  },
  {
   "cell_type": "code",
   "execution_count": 1,
   "id": "37dfe408-e61f-4275-b5d9-19ce47b8bad5",
   "metadata": {
    "tags": []
   },
   "outputs": [
    {
     "name": "stdout",
     "output_type": "stream",
     "text": [
      "curl 8.2.1 (x86_64-apple-darwin13.4.0) libcurl/8.2.1 OpenSSL/3.0.10 zlib/1.2.13 libssh2/1.10.0 nghttp2/1.52.0\n",
      "Release-Date: 2023-07-26\n",
      "Protocols: dict file ftp ftps gopher gophers http https imap imaps mqtt pop3 pop3s rtsp scp sftp smb smbs smtp smtps telnet tftp\n",
      "Features: alt-svc AsynchDNS GSS-API HSTS HTTP2 HTTPS-proxy IPv6 Kerberos Largefile libz NTLM NTLM_WB SPNEGO SSL threadsafe TLS-SRP UnixSockets\n"
     ]
    }
   ],
   "source": [
    "!curl --version"
   ]
  },
  {
   "cell_type": "code",
   "execution_count": 4,
   "id": "6e9d3607-c8bd-4eab-a38d-b86c6726e624",
   "metadata": {
    "tags": []
   },
   "outputs": [
    {
     "name": "stderr",
     "output_type": "stream",
     "text": [
      "  % Total    % Received % Xferd  Average Speed   Time    Time     Time  Current\n",
      "                                 Dload  Upload   Total   Spent    Left  Speed\n",
      "100    42  100    42    0     0    222      0 --:--:-- --:--:-- --:--:--   223\n"
     ]
    },
    {
     "name": "stdout",
     "output_type": "stream",
     "text": [
      "{\n",
      "  \"message\": \"Missing Authentication Token\"\n",
      "}\n"
     ]
    }
   ],
   "source": [
    "%%bash\n",
    "export AWS_ACCESS_KEY_ID=<your-access-key-id>\n",
    "export AWS_SECRET_ACCESS_KEY=<your-secret-access-key>\n",
    "\n",
    "curl --request GET 'https://bedrock.us-east-1.amazonaws.com/foundation-models' \\\n",
    "     --aws-sigv4 aws:amz:us-east-1:bedrock  \\\n",
    "     --user \"${AWS_ACCESS_KEY_ID}:${AWS_SECRET_ACCESS_KEY}\"  \\\n",
    "     --header 'Accept: application/json' | jq ."
   ]
  },
  {
   "cell_type": "code",
   "execution_count": null,
   "id": "8f7ce563-f5a6-48b5-bc44-f155da685f87",
   "metadata": {
    "tags": []
   },
   "outputs": [],
   "source": [
    "%%bash\n",
    "export AWS_ACCESS_KEY_ID=<your-access-key-id>\n",
    "export AWS_SECRET_ACCESS_KEY=<your-secret-access-key>\n",
    "curl --location 'https://bedrock.us-east-1.amazonaws.com/model/amazon.titan-tg1-large/invoke' \\\n",
    "     --header 'Content-Type: application/json'  \\\n",
    "     --aws-sigv4 aws:amz:us-east-1:bedrock \\\n",
    "     --user \"${AWS_ACCESS_KEY_ID}:${AWS_SECRET_ACCESS_KEY}\" \\\n",
    "     --data '{\"inputText\": \"What is generative AI?\", \"textGenerationConfig\": {\"maxTokenCount\": 100, \"temperature\": 1}}' | jq .\n"
   ]
  }
 ],
 "metadata": {
  "kernelspec": {
   "display_name": "conda_bedrock_py39",
   "language": "python",
   "name": "conda_bedrock_py39"
  },
  "language_info": {
   "codemirror_mode": {
    "name": "ipython",
    "version": 3
   },
   "file_extension": ".py",
   "mimetype": "text/x-python",
   "name": "python",
   "nbconvert_exporter": "python",
   "pygments_lexer": "ipython3",
   "version": "3.9.16"
  }
 },
 "nbformat": 4,
 "nbformat_minor": 5
}
