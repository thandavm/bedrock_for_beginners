{
 "cells": [
  {
   "cell_type": "markdown",
   "id": "8ad324b0-fa7a-4888-9022-bfa24843b7e4",
   "metadata": {
    "tags": []
   },
   "source": [
    "# LangChain & Bedrock"
   ]
  },
  {
   "cell_type": "code",
   "execution_count": 1,
   "id": "f1f8be8f-aa82-432e-80a4-fef2cea34646",
   "metadata": {
    "tags": []
   },
   "outputs": [],
   "source": [
    "import boto3\n",
    "import botocore\n",
    "from langchain.chains import LLMChain\n",
    "from langchain.llms.bedrock import Bedrock\n",
    "from langchain.prompts import PromptTemplate\n",
    "from langchain.embeddings import BedrockEmbeddings"
   ]
  },
  {
   "cell_type": "markdown",
   "id": "910e8248-18ab-4d37-8f87-1d058d741b7d",
   "metadata": {},
   "source": [
    "Verify that the correct version of the `boto3` and `botocore` libraries are installed. Bedrock will not work without these versions. These versions are not publicly available yet."
   ]
  },
  {
   "cell_type": "code",
   "execution_count": 2,
   "id": "6b3f851b-81ad-497e-851c-1d464b683aa6",
   "metadata": {
    "tags": []
   },
   "outputs": [
    {
     "data": {
      "text/plain": [
       "'0.0.318'"
      ]
     },
     "execution_count": 2,
     "metadata": {},
     "output_type": "execute_result"
    }
   ],
   "source": [
    "import langchain\n",
    "langchain.__version__"
   ]
  },
  {
   "cell_type": "markdown",
   "id": "51dd6c39-fcd2-436c-bf78-86cee5545136",
   "metadata": {
    "tags": []
   },
   "source": [
    "## Text generation"
   ]
  },
  {
   "cell_type": "markdown",
   "id": "9eeca2cf-f99c-4bd8-9e38-638509687fc2",
   "metadata": {},
   "source": [
    "Create a simple prompt."
   ]
  },
  {
   "cell_type": "code",
   "execution_count": 3,
   "id": "4d9aa3ac-3153-4229-944d-b95d744ee4c6",
   "metadata": {
    "tags": []
   },
   "outputs": [],
   "source": [
    "prompt = PromptTemplate(\n",
    "    input_variables=[\"text\"],\n",
    "    template=\"{text}\",\n",
    ")"
   ]
  },
  {
   "cell_type": "markdown",
   "id": "bd0c5ec0-8885-4d96-b81c-cc47dc00869e",
   "metadata": {},
   "source": [
    "Create the Bedrock LLM. This examples uses the Amazon Titan model, you can try other models as well by changing the value of the `model_id` parameter."
   ]
  },
  {
   "cell_type": "code",
   "execution_count": 4,
   "id": "fa0cf24e-462b-472d-8430-9725fb3de010",
   "metadata": {
    "tags": []
   },
   "outputs": [],
   "source": [
    "llm = Bedrock(model_id=\"amazon.titan-tg1-large\")\n",
    "llmchain = LLMChain(llm=llm, prompt=prompt)"
   ]
  },
  {
   "cell_type": "code",
   "execution_count": 5,
   "id": "43416908-241c-40eb-aa9b-acd559ddf69d",
   "metadata": {
    "tags": []
   },
   "outputs": [],
   "source": [
    "llm.model_kwargs = {'temperature': 0.3, \"maxTokenCount\": 4000}"
   ]
  },
  {
   "cell_type": "code",
   "execution_count": 6,
   "id": "08da72c3-0c93-40de-8ed0-53b3b24a5f9b",
   "metadata": {
    "tags": []
   },
   "outputs": [
    {
     "name": "stdout",
     "output_type": "stream",
     "text": [
      "prompt=Write a blog explaining Generative AI in ELI5 style.\n",
      "\n",
      "response=\n",
      "Generative AI, or \"AI that creates AI,\" is a rapidly evolving field that has the potential to revolutionize the way we think about and interact with technology. In this blog, we'll explore what generative AI is, how it works, and some of the exciting applications it has in various industries.\n",
      "\n",
      "What is Generative AI?\n",
      "Generative AI is a type of AI that uses machine learning algorithms to generate new content, such as text, images, music, and video. It works by training a model on a large dataset of existing content and then using that model to generate new content that is similar to the original dataset.\n",
      "\n",
      "How does Generative AI work?\n",
      "Generative AI works by training a neural network on a large dataset of existing content. The neural network is a collection of artificial neurons that are connected in a network. The network is trained to learn patterns in the data and to generate new content that is similar to the original dataset.\n",
      "\n",
      "There are two main types of generative AI: supervised learning and unsupervised learning.\n",
      "\n",
      "Supervised learning involves training a model on a dataset that has been labeled with the correct answers. The model is then used to generate new content that is similar to the labeled content.\n",
      "\n",
      "Unsupervised learning involves training a model on a dataset that has not been labeled with the correct answers. The model is then used to generate new content that is similar to the unlabeled content.\n",
      "\n",
      "Some of the exciting applications of Generative AI include:\n",
      "\n",
      "Artificial Intelligence (AI): Generative AI can be used to create new images, videos, and music that are similar to existing art. It can also be used to create new AI models that are more accurate and efficient than existing models.\n",
      "\n",
      "Natural Language Processing (NLP): Generative AI can be used to create new text that is similar to existing text. It can also be used to create new chatbots and virtual assistants that are more natural and intuitive to use.\n",
      "\n",
      "Healthcare: Generative AI can be used to create new medical images, such as CT scans and MRI images, that are more accurate and detailed than existing images. It can also be used to create new medical treatments and therapies that are more effective and personalized to patients.\n",
      "\n",
      "Finance: Generative AI can be used to create new financial models and strategies that are more effective and efficient than existing models. It can also be used to create new financial products and services that are more tailored to individual customers.\n",
      "\n",
      "Marketing: Generative AI can be used to create new marketing campaigns and strategies that are more effective and personalized to individual customers. It can also be used to create new products and services that are more tailored to individual customers.\n",
      "\n",
      "Overall, generative AI has the potential to revolutionize the way we think about and interact with technology. It has the potential to create new products and services that are more effective and personalized to individual customers, and it has the potential to create new jobs and industries that are not currently existent. However, it also raises important ethical and social issues, such as the potential for AI to be used for malicious purposes or to perpetuate existing biases and discrimination. As with any new technology, it is important to approach generative AI with caution and to ensure that it is used in a responsible and ethical manner.\n",
      "\n",
      "In conclusion, generative AI is a rapidly evolving field that has the potential to revolutionize the way we think about and interact with technology. It works by training a model on a large dataset of existing content and then using that model to generate new content that is similar to the original dataset. There are two main types of generative AI: supervised learning and unsupervised learning, and some of the exciting applications of Generative AI include AI, NLP, healthcare, finance, and marketing. However, it also raises important ethical and social issues, such as the potential for AI to be used for malicious purposes or to perpetuate existing biases and discrimination. As with any new technology, it is important to approach generative AI with caution and to ensure that it is used in a responsible and ethical manner.\n",
      "CPU times: user 63.6 ms, sys: 13.2 ms, total: 76.8 ms\n",
      "Wall time: 25.4 s\n"
     ]
    }
   ],
   "source": [
    "%%time\n",
    "text = \"Write a blog explaining Generative AI in ELI5 style.\"\n",
    "response = llmchain.run(text=text)\n",
    "print(f\"prompt={text}\\n\\nresponse={response}\")"
   ]
  },
  {
   "cell_type": "markdown",
   "id": "06d1b5aa-a766-412a-b537-c54e57dd26bc",
   "metadata": {},
   "source": [
    "## Embeddings"
   ]
  },
  {
   "cell_type": "code",
   "execution_count": 7,
   "id": "e6865dcd-ea82-4982-ab50-e10226a21def",
   "metadata": {
    "tags": []
   },
   "outputs": [],
   "source": [
    "embeddings = BedrockEmbeddings()"
   ]
  },
  {
   "cell_type": "code",
   "execution_count": 8,
   "id": "a4a4da5b-1ee2-4b64-adb8-c1442d2ef0d5",
   "metadata": {},
   "outputs": [
    {
     "name": "stdout",
     "output_type": "stream",
     "text": [
      "CPU times: user 55.9 ms, sys: 4.89 ms, total: 60.8 ms\n",
      "Wall time: 723 ms\n"
     ]
    }
   ],
   "source": [
    "%%time\n",
    "text_as_embeddings = embeddings.embed_documents([text])"
   ]
  },
  {
   "cell_type": "code",
   "execution_count": 9,
   "id": "a25ca892-e5cc-4074-b1d6-28f8aef772c4",
   "metadata": {
    "tags": []
   },
   "outputs": [
    {
     "name": "stdout",
     "output_type": "stream",
     "text": [
      "generated embedding of length 1536\n",
      "first few values of the embeddings vector -> [0.36914062, -0.08544922, -0.16699219, -0.22070312, 0.31835938, 0.040039062, -0.4140625, -0.00035476685, -0.04321289, -0.16992188]\n"
     ]
    }
   ],
   "source": [
    "print(f\"generated embedding of length {len(text_as_embeddings[0])}\\nfirst few values of the embeddings vector -> {text_as_embeddings[0][:10]}\")"
   ]
  }
 ],
 "metadata": {
  "kernelspec": {
   "display_name": "base",
   "language": "python",
   "name": "python3"
  },
  "language_info": {
   "codemirror_mode": {
    "name": "ipython",
    "version": 3
   },
   "file_extension": ".py",
   "mimetype": "text/x-python",
   "name": "python",
   "nbconvert_exporter": "python",
   "pygments_lexer": "ipython3",
   "version": "3.11.5"
  }
 },
 "nbformat": 4,
 "nbformat_minor": 5
}
