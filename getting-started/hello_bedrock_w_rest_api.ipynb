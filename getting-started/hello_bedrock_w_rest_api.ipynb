{
 "cells": [
  {
   "cell_type": "markdown",
   "id": "ebfe29be-1a0d-49f3-aee1-0c4ce7846d5a",
   "metadata": {},
   "source": [
    "# Bedrock REST API\n",
    "\n",
    "This ntoebook demonstrates the use of `cURL` commands to invoke the Bedrock REST API. `cURL` version 7.75.0 onwards support the [`--aws-sigv4`](https://curl.se/docs/manpage.html#--aws-sigv4) option so it abstracts out the functionality of signing the HTTP request.\n",
    "\n",
    "Reference: \n",
    "- https://docs.aws.amazon.com/IAM/latest/UserGuide/create-signed-request.html\n",
    "- https://curl.se/docs/manpage.html#--aws-sigv4"
   ]
  },
  {
   "cell_type": "code",
   "execution_count": 12,
   "id": "37dfe408-e61f-4275-b5d9-19ce47b8bad5",
   "metadata": {
    "tags": []
   },
   "outputs": [
    {
     "name": "stdout",
     "output_type": "stream",
     "text": [
      "curl 7.87.0 (x86_64-conda-linux-gnu) libcurl/7.87.0 OpenSSL/3.0.7 zlib/1.2.13 libssh2/1.10.0 nghttp2/1.47.0\n",
      "Release-Date: 2022-12-21\n",
      "Protocols: dict file ftp ftps gopher gophers http https imap imaps mqtt pop3 pop3s rtsp scp sftp smb smbs smtp smtps telnet tftp\n",
      "Features: alt-svc AsynchDNS GSS-API HSTS HTTP2 HTTPS-proxy IPv6 Kerberos Largefile libz NTLM NTLM_WB SPNEGO SSL threadsafe TLS-SRP UnixSockets\n"
     ]
    }
   ],
   "source": [
    "!curl --version"
   ]
  },
  {
   "cell_type": "code",
   "execution_count": 10,
   "id": "6e9d3607-c8bd-4eab-a38d-b86c6726e624",
   "metadata": {
    "tags": []
   },
   "outputs": [
    {
     "name": "stderr",
     "output_type": "stream",
     "text": [
      "  % Total    % Received % Xferd  Average Speed   Time    Time     Time  Current\n",
      "                                 Dload  Upload   Total   Spent    Left  Speed\n",
      "100   861  100   861    0     0   3417      0 --:--:-- --:--:-- --:--:--  3430\n"
     ]
    },
    {
     "name": "stdout",
     "output_type": "stream",
     "text": [
      "{\n",
      "  \"modelSummaries\": [\n",
      "    {\n",
      "      \"modelArn\": \"arn:aws:bedrock:us-east-1::foundation-model/amazon.titan-tg1-large\",\n",
      "      \"modelId\": \"amazon.titan-tg1-large\"\n",
      "    },\n",
      "    {\n",
      "      \"modelArn\": \"arn:aws:bedrock:us-east-1::foundation-model/amazon.titan-e1t-medium\",\n",
      "      \"modelId\": \"amazon.titan-e1t-medium\"\n",
      "    },\n",
      "    {\n",
      "      \"modelArn\": \"arn:aws:bedrock:us-east-1::foundation-model/stability.stable-diffusion-xl\",\n",
      "      \"modelId\": \"stability.stable-diffusion-xl\"\n",
      "    },\n",
      "    {\n",
      "      \"modelArn\": \"arn:aws:bedrock:us-east-1::foundation-model/ai21.j2-grande-instruct\",\n",
      "      \"modelId\": \"ai21.j2-grande-instruct\"\n",
      "    },\n",
      "    {\n",
      "      \"modelArn\": \"arn:aws:bedrock:us-east-1::foundation-model/ai21.j2-jumbo-instruct\",\n",
      "      \"modelId\": \"ai21.j2-jumbo-instruct\"\n",
      "    },\n",
      "    {\n",
      "      \"modelArn\": \"arn:aws:bedrock:us-east-1::foundation-model/anthropic.claude-instant-v1\",\n",
      "      \"modelId\": \"anthropic.claude-instant-v1\"\n",
      "    },\n",
      "    {\n",
      "      \"modelArn\": \"arn:aws:bedrock:us-east-1::foundation-model/anthropic.claude-v1\",\n",
      "      \"modelId\": \"anthropic.claude-v1\"\n",
      "    }\n",
      "  ]\n",
      "}\n"
     ]
    }
   ],
   "source": [
    "%%bash\n",
    "export AWS_ACCESS_KEY_ID=<your-access-key-id>\n",
    "export AWS_SECRET_ACCESS_KEY=<your-secret-access-key>\n",
    "curl --request GET 'https://bedrock.us-east-1.amazonaws.com/foundation-models' \\\n",
    "     --aws-sigv4 aws:amz:us-east-1:bedrock  \\\n",
    "     --user \"${AWS_ACCESS_KEY_ID}:${AWS_SECRET_ACCESS_KEY}\"  \\\n",
    "     --header 'Accept: application/json' | jq ."
   ]
  },
  {
   "cell_type": "code",
   "execution_count": 11,
   "id": "8f7ce563-f5a6-48b5-bc44-f155da685f87",
   "metadata": {
    "tags": []
   },
   "outputs": [
    {
     "name": "stderr",
     "output_type": "stream",
     "text": [
      "  % Total    % Received % Xferd  Average Speed   Time    Time     Time  Current\n",
      "                                 Dload  Upload   Total   Spent    Left  Speed\n",
      "100   636  100   531  100   105    160     31  0:00:03  0:00:03 --:--:--   191\n"
     ]
    },
    {
     "name": "stdout",
     "output_type": "stream",
     "text": [
      "{\n",
      "  \"inputTextTokenCount\": 6,\n",
      "  \"results\": [\n",
      "    {\n",
      "      \"tokenCount\": 92,\n",
      "      \"outputText\": \"\\nThe ability of artificial intelligence systems to create texts, images, or videos based on user prompts is known as generative AI. Generative AI comes in many different forms, but all of them work by using large datasets and sophisticated algorithms to train a machine learning model to produce new content that is similar to the examples it was given. Text generation tools like ChatGPT and DALL-E; image generation tools like Midjourneyand StableDiffusion.\"\n",
      "    }\n",
      "  ]\n",
      "}\n"
     ]
    }
   ],
   "source": [
    "%%bash\n",
    "export AWS_ACCESS_KEY_ID=<your-access-key-id>\n",
    "export AWS_SECRET_ACCESS_KEY=<your-secret-access-key>\n",
    "curl --location 'https://bedrock.us-east-1.amazonaws.com/model/amazon.titan-tg1-large/invoke' \\\n",
    "     --header 'Content-Type: application/json'  \\\n",
    "     --aws-sigv4 aws:amz:us-east-1:bedrock \\\n",
    "     --user \"${AWS_ACCESS_KEY_ID}:${AWS_SECRET_ACCESS_KEY}\" \\\n",
    "     --data '{\"inputText\": \"What is generative AI?\", \"textGenerationConfig\": {\"maxTokenCount\": 100, \"temperature\": 1}}' | jq .\n"
   ]
  },
  {
   "cell_type": "code",
   "execution_count": null,
   "id": "f1401eb5-e9e8-40c1-aa1b-c26e1f478eca",
   "metadata": {},
   "outputs": [],
   "source": []
  }
 ],
 "metadata": {
  "kernelspec": {
   "display_name": "conda_bedrock_py39",
   "language": "python",
   "name": "conda_bedrock_py39"
  },
  "language_info": {
   "codemirror_mode": {
    "name": "ipython",
    "version": 3
   },
   "file_extension": ".py",
   "mimetype": "text/x-python",
   "name": "python",
   "nbconvert_exporter": "python",
   "pygments_lexer": "ipython3",
   "version": "3.9.16"
  }
 },
 "nbformat": 4,
 "nbformat_minor": 5
}
