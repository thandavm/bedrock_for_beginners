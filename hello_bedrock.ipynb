{
 "cells": [
  {
   "cell_type": "code",
   "execution_count": 11,
   "id": "7dadea2b-85c5-47b0-a7f1-1bfa7fa73e4c",
   "metadata": {
    "tags": []
   },
   "outputs": [
    {
     "name": "stdout",
     "output_type": "stream",
     "text": [
      "boto3=1.26.142, botocore=1.29.142\n"
     ]
    }
   ],
   "source": [
    "import boto3\n",
    "import botocore\n",
    "print(f\"boto3={boto3.__version__}, botocore={botocore.__version__}\")"
   ]
  },
  {
   "cell_type": "code",
   "execution_count": 12,
   "id": "94c8e0d7-2e4b-45b4-858f-12400c3771c5",
   "metadata": {
    "tags": []
   },
   "outputs": [
    {
     "data": {
      "text/plain": [
       "<botocore.client.Bedrock at 0x7f6e56fb52e0>"
      ]
     },
     "execution_count": 12,
     "metadata": {},
     "output_type": "execute_result"
    }
   ],
   "source": [
    "bedrock_client = boto3.client(service_name='bedrock',\n",
    "                              region_name='us-east-1')\n",
    "bedrock_client"
   ]
  },
  {
   "cell_type": "code",
   "execution_count": 13,
   "id": "49b848c8-238e-4ebf-8923-d04bc3cd3bac",
   "metadata": {
    "tags": []
   },
   "outputs": [
    {
     "data": {
      "text/plain": [
       "{'ResponseMetadata': {'RequestId': '08cd192d-dde0-4985-a3f9-9da6a7d79fc0',\n",
       "  'HTTPStatusCode': 200,\n",
       "  'HTTPHeaders': {'x-amzn-requestid': '08cd192d-dde0-4985-a3f9-9da6a7d79fc0',\n",
       "   'date': 'Thu, 01 Jun 2023 19:47:14 GMT',\n",
       "   'content-type': 'application/json',\n",
       "   'content-length': '861'},\n",
       "  'RetryAttempts': 0},\n",
       " 'modelSummaries': [{'modelArn': 'arn:aws:bedrock:us-east-1::foundation-model/amazon.titan-tg1-large',\n",
       "   'modelId': 'amazon.titan-tg1-large'},\n",
       "  {'modelArn': 'arn:aws:bedrock:us-east-1::foundation-model/amazon.titan-e1t-medium',\n",
       "   'modelId': 'amazon.titan-e1t-medium'},\n",
       "  {'modelArn': 'arn:aws:bedrock:us-east-1::foundation-model/stability.stable-diffusion-xl',\n",
       "   'modelId': 'stability.stable-diffusion-xl'},\n",
       "  {'modelArn': 'arn:aws:bedrock:us-east-1::foundation-model/ai21.j2-grande-instruct',\n",
       "   'modelId': 'ai21.j2-grande-instruct'},\n",
       "  {'modelArn': 'arn:aws:bedrock:us-east-1::foundation-model/ai21.j2-jumbo-instruct',\n",
       "   'modelId': 'ai21.j2-jumbo-instruct'},\n",
       "  {'modelArn': 'arn:aws:bedrock:us-east-1::foundation-model/anthropic.claude-instant-v1',\n",
       "   'modelId': 'anthropic.claude-instant-v1'},\n",
       "  {'modelArn': 'arn:aws:bedrock:us-east-1::foundation-model/anthropic.claude-v1',\n",
       "   'modelId': 'anthropic.claude-v1'}]}"
      ]
     },
     "execution_count": 13,
     "metadata": {},
     "output_type": "execute_result"
    }
   ],
   "source": [
    "bedrock_client.list_foundation_models()"
   ]
  },
  {
   "cell_type": "code",
   "execution_count": 14,
   "id": "d0f31ef8-60f1-422d-ba99-35b48029d8ce",
   "metadata": {
    "tags": []
   },
   "outputs": [
    {
     "name": "stdout",
     "output_type": "stream",
     "text": [
      "\n",
      "Generative AI is a subfield of machine learning that uses algorithms to create texts, images, or videos based on user prompts. The most common application is text-generation, where algorithms are trained on large text datasets to learn the patterns and structure of language. Using this knowledge, the algorithms can then produce their own human-like text, which can be useful for various tasks such as content creation, news articles and social media posts.\n",
      "\n"
     ]
    }
   ],
   "source": [
    "import json\n",
    "body = {\"inputText\": \"Hello, what is Generative AI?\",\n",
    "        \"textGenerationConfig\": {\"temperature\": 1}}\n",
    "body_bytes = json.dumps(body).encode('utf-8')\n",
    "\n",
    "response = bedrock_client.invoke_model(\n",
    "                modelId=\"amazon.titan-tg1-large\",\n",
    "                contentType=\"application/json\",\n",
    "                accept=\"*/*\",\n",
    "                body=body_bytes,\n",
    "            )\n",
    "\n",
    "resp_body = response[\"body\"].read()\n",
    "resp_body_json = json.loads(resp_body.decode('utf-8'))\n",
    "print(resp_body_json[\"results\"][0][\"outputText\"])"
   ]
  },
  {
   "cell_type": "code",
   "execution_count": 19,
   "id": "f3fdee1b-1142-4145-87da-dec85b2c303f",
   "metadata": {
    "tags": []
   },
   "outputs": [
    {
     "name": "stdout",
     "output_type": "stream",
     "text": [
      "generated embedding of length 4096\n",
      "first few values of the embeddings vector -> [0.5390625, -0.051757812, -0.18554688, -0.0546875, 0.43945312, 0.18164062, -0.10449219, -0.25585938, 0.014465332, -0.26367188]\n"
     ]
    }
   ],
   "source": [
    "from typing import List\n",
    "\n",
    "# We will be using the Titan Embeddings Model to generate our Embeddings.\n",
    "def get_embedding(body: str,\n",
    "                  model_id: str = 'amazon.titan-e1t-medium',\n",
    "                  accept: str = 'application/json',\n",
    "                  content_type: str = 'application/json') -> List:\n",
    "    response = bedrock_client.invoke_model(body=body, modelId=model_id, accept=accept, contentType=content_type)\n",
    "    response_body = json.loads(response.get('body').read())\n",
    "    embedding = response_body.get('embedding')\n",
    "    return embedding\n",
    "\n",
    "body = json.dumps({\"inputText\": \"Hello, what is Generative AI?\"})\n",
    "embedding = get_embedding(body)\n",
    "print(f\"generated embedding of length {len(embedding)}\\nfirst few values of the embeddings vector -> {embedding[:10]}\")"
   ]
  },
  {
   "cell_type": "code",
   "execution_count": null,
   "id": "2e7ba86c-fca8-40e1-987c-33d74f2b65c0",
   "metadata": {},
   "outputs": [],
   "source": []
  }
 ],
 "metadata": {
  "kernelspec": {
   "display_name": "conda_bedrock_py39",
   "language": "python",
   "name": "conda_bedrock_py39"
  },
  "language_info": {
   "codemirror_mode": {
    "name": "ipython",
    "version": 3
   },
   "file_extension": ".py",
   "mimetype": "text/x-python",
   "name": "python",
   "nbconvert_exporter": "python",
   "pygments_lexer": "ipython3",
   "version": "3.9.16"
  }
 },
 "nbformat": 4,
 "nbformat_minor": 5
}
